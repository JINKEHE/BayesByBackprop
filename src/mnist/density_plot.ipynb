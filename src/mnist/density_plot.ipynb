{
  "nbformat": 4,
  "nbformat_minor": 0,
  "metadata": {
    "colab": {
      "name": "density plot.ipynb",
      "version": "0.3.2",
      "provenance": [],
      "collapsed_sections": []
    },
    "kernelspec": {
      "name": "python3",
      "display_name": "Python 3"
    },
    "accelerator": "GPU"
  },
  "cells": [
    {
      "metadata": {
        "id": "G4Jfp_RFk8Nx",
        "colab_type": "code",
        "outputId": "f3da7389-5487-47bd-f0e1-bf4943b654cb",
        "colab": {
          "base_uri": "https://localhost:8080/",
          "height": 445
        }
      },
      "cell_type": "code",
      "source": [
        "import sys\n",
        "import core\n",
        "from core import *\n",
        "sys.path.append(\"..\")\n",
        "import torch\n",
        "from torchvision import transforms\n",
        "import torchvision\n",
        "import torch.utils.data as Data\n",
        "import numpy as np\n",
        "from torch.autograd import Variable\n",
        "import random\n",
        "import math\n",
        "import itertools\n",
        "import argparse\n",
        "import pickle\n",
        "import torch.nn.functional as f\n",
        "\n",
        "# check whether we are using GPU or not\n",
        "use_cuda = torch.cuda.is_available()\n",
        "\n",
        "N_Epochs =  600\n",
        "N_units = 1200\n",
        "LearningRate = 0.001\n",
        "BatchSize = 128\n",
        "optimizer_type = \"SGD\"\n",
        "preprocess = True\n",
        "N_Samples_Training = 2\n",
        "N_Samples_Testing = 100\n",
        "prior_type = \"scale_mixture\"\n",
        "mixture_sigma1 = torch.tensor([math.exp(-2)])\n",
        "mixture_sigma2 = torch.tensor([math.exp(-8)])\n",
        "if use_cuda:\n",
        "    mixture_sigma1 = mixture_sigma1.cuda()\n",
        "    mixture_sigma2 = mixture_sigma2.cuda()\n",
        "mixture_pi = 0.75\n",
        "network_type = \"bayesian\"\n",
        "initial_mu_weights = [-0.08, 0.08]\n",
        "initial_rho_weights = [-2.5,-2.1]\n",
        "initial_mu_bias = [-0.08, 0.08]\n",
        "initial_rho_bias = [-2.5,-2.1]\n",
        "use_normalized = False\n",
        "\n",
        "\n",
        "import os.path\n",
        "dataset_path = os.path.join(os.path.dirname(\"\"), 'mnist_dataset')\n",
        "if not os.path.exists(dataset_path):\n",
        "    Download_MNIST = True\n",
        "else:\n",
        "    Download_MNIST = False\n",
        "\n",
        "if preprocess is True:\n",
        "    # transform = transforms.Compose([np.array, torch.FloatTensor, lambda x: torch.div(x,126.0)])\n",
        "    transform = transforms.Compose([torchvision.transforms.ToTensor(), lambda x: x*255/126])\n",
        "else:\n",
        "    transform = transforms.Compose([np.array, torch.FloatTensor])\n",
        "\n",
        "train_set = torchvision.datasets.MNIST(\n",
        "    root=dataset_path,\n",
        "    train=True,\n",
        "    transform=transform,\n",
        "    download=Download_MNIST\n",
        ")\n",
        "\n",
        "train_loader = Data.DataLoader(dataset=train_set, batch_size=BatchSize, shuffle=True)\n",
        "\n",
        "test_set = torchvision.datasets.MNIST(\n",
        "    root=dataset_path,\n",
        "    train=False,\n",
        "    transform=transform,\n",
        "    download=Download_MNIST\n",
        ")\n",
        "\n",
        "train_size = train_set.train_data.size()[0]\n",
        "N_Train_Batch = train_size / BatchSize\n",
        "test_size = test_set.test_data.size()[0]\n",
        "\n",
        "compute_accu = lambda pred, true, digits: round((pred == true).mean() * 100, digits)\n",
        "\n",
        "# build the network\n",
        "if network_type == \"standard\":\n",
        "    loss_fn = torch.nn.NLLLoss(reduction='sum')\n",
        "    if use_dropout:\n",
        "        dropout_rate = args.dropout_rate\n",
        "        net =  torch.nn.Sequential(\n",
        "            torch.nn.Linear(784, N_units),\n",
        "            torch.nn.ReLU(),\n",
        "            torch.nn.Dropout(dropout_rate),\n",
        "            torch.nn.Linear(N_units, N_units),\n",
        "            torch.nn.ReLU(),\n",
        "            torch.nn.Dropout(dropout_rate),\n",
        "            torch.nn.Linear(N_units, 10),\n",
        "            torch.nn.LogSoftmax(dim=1)\n",
        "        )\n",
        "    else:\n",
        "        net = torch.nn.Sequential(\n",
        "            torch.nn.Linear(784, N_units),\n",
        "            torch.nn.ReLU(),\n",
        "            torch.nn.Linear(N_units, N_units),\n",
        "            torch.nn.ReLU(),\n",
        "            torch.nn.Linear(N_units, 10),\n",
        "            torch.nn.LogSoftmax(dim=1)\n",
        "        )\n",
        "\n",
        "elif network_type == \"bayesian\":\n",
        "    if prior_type == 'scale_mixture':\n",
        "        prior_type = PriorType.MIXTURE\n",
        "        prior_params={'pi' : mixture_pi, 'sigma1' : mixture_sigma1, 'sigma2' : mixture_sigma2}\n",
        "    else:\n",
        "        prior_type = PriorType.GAUSSIAN\n",
        "        prior_params={'mean': gaussian_mean, 'sigma': gaussian_sigma}\n",
        "    net = BayesianNN(\n",
        "        nn_input_size=784,\n",
        "        layer_config=[N_units, N_units, 10],\n",
        "        activation_config=[ActivationType.RELU, ActivationType.RELU, ActivationType.SOFTMAX],\n",
        "        prior_type=prior_type,\n",
        "        prior_params=prior_params,\n",
        "        task_type=TaskType.CLASSIFICATION,\n",
        "        initial_mu_weights=initial_mu_weights,\n",
        "        initial_rho_weights=initial_rho_weights,\n",
        "        initial_mu_bias=initial_mu_bias,\n",
        "        initial_rho_bias=initial_rho_bias\n",
        "    )\n",
        "    print(\"initial mu weights:\", initial_mu_weights)\n",
        "    print(\"initial rho weights:\", initial_rho_weights)\n",
        "    print(\"initial mu bias:\", initial_mu_bias)\n",
        "    print(\"initial rho bias\", initial_rho_bias)\n",
        "else:\n",
        "    raise ValueError\n",
        "\n",
        "if use_cuda:\n",
        "    net = net.cuda()\n",
        "\n",
        "print(net)\n",
        "\n",
        "# build the optimizer\n",
        "if optimizer_type == \"SGD\":\n",
        "    optim = torch.optim.SGD(net.parameters(), lr=LearningRate)\n",
        "elif optimizer_type == \"Adam\":\n",
        "    optim = torch.optim.Adam(net.parameters(), lr=LearningRate)\n",
        "else:\n",
        "    raise ValueError\n",
        "\n",
        "#scheduler = torch.optim.lr_scheduler.StepLR(optim, step_size=lr_scheduler_step_size, gamma=lr_scheduler_gamma)\n",
        "# the main training loop\n",
        "train_accu_lst = []\n",
        "test_accu_lst = []\n",
        "\n",
        "test_X = Variable(test_set.test_data.view(test_size, -1).type(torch.FloatTensor))\n",
        "test_Y = Variable(test_set.test_labels.view(test_size, -1))\n",
        "\n",
        "if use_cuda:\n",
        "    test_X, test_Y = test_X.cuda(), test_Y.cuda()\n",
        "\n",
        "train_X = Variable(train_set.train_data.view(train_size, -1).type(torch.FloatTensor))\n",
        "train_Y = Variable(train_set.train_labels.view(train_size, -1))\n",
        "\n",
        "if use_cuda:\n",
        "    train_X, train_Y = train_X.cuda(), train_Y.cuda()\n",
        "import time\n",
        "normalized_factor = 1/N_Train_Batch\n",
        "# for i_ep in range(N_Epochs):\n",
        "#     #scheduler.step()\n",
        "#     # Training\n",
        "#     net.train()\n",
        "#     if use_normalized:\n",
        "#         normalized_factor = 1\n",
        "#     total_loss = 0\n",
        "#     total_kl = 0\n",
        "#     start = time.time()\n",
        "#     for X, Y in train_loader:\n",
        "#         batch_X = Variable(X.view(X.size()[0], -1))\n",
        "#         batch_Y = Variable(Y.view(X.size()[0]))\n",
        "\n",
        "#         if use_normalized:\n",
        "#             normalized_factor /= 2\n",
        "#         if use_cuda:\n",
        "#             batch_X, batch_Y = batch_X.cuda(), batch_Y.cuda()\n",
        "\n",
        "#         # compute loss\n",
        "#         if network_type == 'standard':\n",
        "#             y_pred = net(batch_X)\n",
        "#             loss = loss_fn(y_pred, batch_Y)\n",
        "#         elif network_type == 'bayesian':\n",
        "#             loss, kl , _ = net.cost_function(batch_X, batch_Y, num_samples=N_Samples_Training, ratio = normalized_factor)\n",
        "#             total_loss += loss.item()\n",
        "#             total_kl += kl.item()\n",
        "#             # detect nan\n",
        "#             if torch.isnan(loss):\n",
        "#                 print(\"Loss NAN.\")\n",
        "#                 for p in net.parameters():\n",
        "#                     print(p)\n",
        "#                 raise ValueError\n",
        "#         else:\n",
        "#             raise ValueError\n",
        "\n",
        "#         # do backpropagation\n",
        "#         optim.zero_grad()\n",
        "#         loss.backward()\n",
        "#         optim.step()\n",
        "#     end = time.time()\n",
        "#     print(end-start)\n",
        "#     # Evaluate on training set\n",
        "#     if network_type == 'standard':\n",
        "#         net.eval()\n",
        "#     # do not use evaluation mode for bayesian networks because we do sampling during testing\n",
        "#     if network_type == 'bayesian':\n",
        "#         print(total_loss, total_kl)\n",
        "\n",
        "#     # test on training set\n",
        "\n",
        "#     if network_type == 'standard':\n",
        "#         pred_class = net(train_X).cpu().data.numpy().argmax(axis=1)\n",
        "#     elif network_type == 'bayesian':\n",
        "#         pred_class = net.predict_by_sampling(train_X, num_samples=N_Samples_Testing).data.cpu().numpy().argmax(axis=1)\n",
        "#     else:\n",
        "#         raise ValueError\n",
        "\n",
        "#     true_class = train_Y.data.cpu().numpy().ravel()\n",
        "\n",
        "#     train_accu = compute_accu(pred_class, true_class, 2)\n",
        "#     print('Epoch', i_ep, '|  Training Accuracy:', train_accu, '%', '| Training Error: ', round(100-train_accu, 2), '%')\n",
        "\n",
        "#     train_accu_lst.append(train_accu)\n",
        "\n",
        "#     # test on testing set\n",
        "\n",
        "#     true_class = test_Y.data.cpu().numpy().ravel()\n",
        "\n",
        "#     if network_type == 'standard':\n",
        "#         pred_class = net(test_X).cpu().data.numpy().argmax(axis=1)\n",
        "#     elif network_type == 'bayesian':\n",
        "#         pred_class = net.predict_by_sampling(test_X, num_samples=N_Samples_Testing).data.cpu().numpy().argmax(axis=1)\n",
        "#         pred_class_without_sampling = net(test_X, sample=False).cpu().detach().numpy().argmax(axis=1)\n",
        "#         test_accu_without_sampling = compute_accu(pred_class_without_sampling, true_class, 2)\n",
        "#         print('Epoch', i_ep, '|  Test Accuracy without sampling:', test_accu_without_sampling, '%', '| Test Error: ', round(100-test_accu_without_sampling, 2), '%')\n",
        "#         pred_class_2 = net.predict_by_sampling(test_X, num_samples=2).data.cpu().numpy().argmax(axis=1)\n",
        "#         #pred_class_4 = net.predict_by_sampling(test_X, num_samples=4).data.cpu().numpy().argmax(axis=1)\n",
        "#         #pred_class_6 = net.predict_by_sampling(test_X, num_samples=6).data.cpu().numpy().argmax(axis=1)\n",
        "#         pred_class_20 = net.predict_by_sampling(test_X, num_samples=20).data.cpu().numpy().argmax(axis=1)\n",
        "#         #pred_class_100 = net.predict_by_sampling(test_X, num_samples=100).data.cpu().numpy().argmax(axis=1)\n",
        "#         #pred_class_300 = net.predict_by_sampling(test_X, num_samples=300).data.cpu().numpy().argmax(axis=1)\n",
        "#         print(\"sample 2 test error: {}\".format(100-compute_accu(pred_class_2, true_class, 2)))\n",
        "#         #print(\"sample 4 test error: {}\".format(100-compute_accu(pred_class_4, true_class, 2)))\n",
        "#         #print(\"sample 6 test error: {}\".format(100-compute_accu(pred_class_6, true_class, 2)))\n",
        "#         print(\"sample 20 test error: {}\".format(100-compute_accu(pred_class_20, true_class, 2)))\n",
        "#         #print(\"sample 100 test error: {}\".format(100-compute_accu(pred_class_100, true_class, 2)))\n",
        "#         #print(\"sample 300 test error: {}\".format(100-compute_accu(pred_class_300, true_class, 2)))\n",
        "#     else:\n",
        "#         raise ValueError\n",
        "\n",
        "#     test_accu = compute_accu(pred_class, true_class, 2)\n",
        "#     print('Epoch', i_ep, '|  Test Accuracy:', test_accu, '%', '| Test Error: ', round(100-test_accu, 2), '%')\n",
        "\n",
        "#     test_accu_lst.append(test_accu)\n",
        "\n",
        "# for p in net.parameters():\n",
        "#     print(p)\n",
        "\n",
        "# # to report the final test error, I will use the average of test errors of the last 10 epochs\n",
        "\n",
        "# report_test_accu_mean = np.average(test_accu_lst[-10:])\n",
        "# report_test_accu_std = np.std(test_accu_lst[-10:])\n",
        "# report_test_error_mean = round(100-report_test_accu_mean, 2)\n",
        "# print(\"Test Accuracy: {}\".format(report_test_accu_mean))\n",
        "# print(\"Test Error: {}\".format(report_test_error_mean))\n",
        "# print(\"Test Accuracy/Error Std: {}\".format(report_test_accu_std))\n",
        "\n",
        "# # save result to results folder: using pickle\n",
        "# result_folder_path = \"../../results/{}/\".format(experiment_name)\n",
        "# if not os.path.exists(result_folder_path):\n",
        "#     os.mkdir(result_folder_path)\n",
        "# with open(result_folder_path+\"train_accu_lst.pkl\", 'wb') as f:\n",
        "#     pickle.dump(train_accu_lst, f)\n",
        "# with open(result_folder_path+\"test_accu_lst.pkl\", 'wb') as f:\n",
        "#     pickle.dump(test_accu_lst, f)"
      ],
      "execution_count": 0,
      "outputs": [
        {
          "output_type": "stream",
          "text": [
            "Use GPU: True\n"
          ],
          "name": "stdout"
        },
        {
          "output_type": "stream",
          "text": [
            "/usr/local/lib/python3.6/dist-packages/torchvision/datasets/mnist.py:53: UserWarning: train_data has been renamed data\n",
            "  warnings.warn(\"train_data has been renamed data\")\n",
            "/usr/local/lib/python3.6/dist-packages/torchvision/datasets/mnist.py:58: UserWarning: test_data has been renamed data\n",
            "  warnings.warn(\"test_data has been renamed data\")\n",
            "/usr/local/lib/python3.6/dist-packages/torchvision/datasets/mnist.py:48: UserWarning: test_labels has been renamed targets\n",
            "  warnings.warn(\"test_labels has been renamed targets\")\n"
          ],
          "name": "stderr"
        },
        {
          "output_type": "stream",
          "text": [
            "initial mu weights: [-0.08, 0.08]\n",
            "initial rho weights: [-2.5, -2.1]\n",
            "initial mu bias: [-0.08, 0.08]\n",
            "initial rho bias [-2.5, -2.1]\n",
            "BayesianNN(\n",
            "  Bayesian Layer, in_size:784, out_size:1200, activation_type:RELU\n",
            "  Bayesian Layer, in_size:1200, out_size:1200, activation_type:RELU\n",
            "  Bayesian Layer, in_size:1200, out_size:10, activation_type:SOFTMAX\n",
            "  \n",
            "  (layers): ModuleList(\n",
            "    (0): BayesianLayer(Bayesian Layer, in_size:784, out_size:1200, activation_type:RELU)\n",
            "    (1): BayesianLayer(Bayesian Layer, in_size:1200, out_size:1200, activation_type:RELU)\n",
            "    (2): BayesianLayer(Bayesian Layer, in_size:1200, out_size:10, activation_type:SOFTMAX)\n",
            "  )\n",
            ")\n"
          ],
          "name": "stdout"
        },
        {
          "output_type": "stream",
          "text": [
            "/usr/local/lib/python3.6/dist-packages/torchvision/datasets/mnist.py:43: UserWarning: train_labels has been renamed targets\n",
            "  warnings.warn(\"train_labels has been renamed targets\")\n"
          ],
          "name": "stderr"
        }
      ]
    },
    {
      "metadata": {
        "id": "FAR04_35rGFf",
        "colab_type": "code",
        "outputId": "e474f0f4-9b79-45c8-bb56-675ccc732661",
        "colab": {
          "base_uri": "https://localhost:8080/",
          "height": 54
        }
      },
      "cell_type": "code",
      "source": [
        "bayesian3_net = torch.load(\"bayes3_weights.pt\").cuda()\n",
        "bayesian1_net = torch.load(\"bayes1_weights.pt\")\n",
        "net = bayesian1_net\n",
        "arr = []\n",
        "for i in range (len(net.layers)):\n",
        "  weightdb = torch.log(torch.abs(net.layers[i].mu_weights)/torch.log(1 + torch.exp(net.layers[i].rho_weights))).view(-1).data.cpu().numpy()\n",
        "  arr.extend(weightdb)\n",
        "  biasdb = torch.log(torch.abs(net.layers[i].mu_bias)/torch.log(1 + torch.exp(net.layers[i].rho_bias))).view(-1).data.cpu().numpy()\n",
        "  arr.extend(biasdb)\n",
        "plt.hist(arr, bins = 10000, label=\"-0.0\")\n",
        "net = bayesian3_net\n",
        "arr = []\n",
        "for i in range (len(net.layers)):\n",
        "  weightdb = torch.log(torch.abs(net.layers[i].mu_weights)/torch.log(1 + torch.exp(net.layers[i].rho_weights))).view(-1).data.cpu().numpy()\n",
        "  arr.extend(weightdb)\n",
        "  biasdb = torch.log(torch.abs(net.layers[i].mu_bias)/torch.log(1 + torch.exp(net.layers[i].rho_bias))).view(-1).data.cpu().numpy()\n",
        "  arr.extend(biasdb)\n",
        "plt.hist(arr, bins = 10000, label=\"-2.0\")\n",
        "plt.legend()"
      ],
      "execution_count": 0,
      "outputs": [
        {
          "output_type": "execute_result",
          "data": {
            "text/plain": [
              "'plt.hist(arr, bins = 10000, label=\"-0.0\")\\nnet = bayesian3_net\\narr = []\\nfor i in range (len(net.layers)):\\n  weightdb = torch.log(torch.abs(net.layers[i].mu_weights)/torch.log(1 + torch.exp(net.layers[i].rho_weights))).view(-1).data.cpu().numpy()\\n  arr.extend(weightdb)\\n  biasdb = torch.log(torch.abs(net.layers[i].mu_bias)/torch.log(1 + torch.exp(net.layers[i].rho_bias))).view(-1).data.cpu().numpy()\\n  arr.extend(biasdb)\\n    #net.layers[i].mu_weights\\nplt.hist(arr, bins = 10000, label=\"-2.0\")\\nplt.legend()'"
            ]
          },
          "metadata": {
            "tags": []
          },
          "execution_count": 72
        }
      ]
    },
    {
      "metadata": {
        "id": "OP3m8fXDhDfk",
        "colab_type": "code",
        "outputId": "1ef59e23-7fda-4f36-c095-730ed2eb7ecb",
        "colab": {
          "base_uri": "https://localhost:8080/",
          "height": 102
        }
      },
      "cell_type": "code",
      "source": [
        "net = torch.load(\"bayes1_weights.pt\").cuda()\n",
        "def get_error(net, percentile, arr):\n",
        "  arr = np.sort(arr)\n",
        "  threshold = arr[int(len(arr)*percentile)]\n",
        "  for i in range (len(net.layers)):\n",
        "    for j in range (len(net.layers[i].mu_weights)):\n",
        "      t = (torch.log(torch.abs(net.layers[i].mu_weights[j])/torch.log(1 + torch.exp(net.layers[i].rho_weights[j]))) < threshold)\n",
        "      t = t.nonzero()\n",
        "      net.layers[i].mu_weights[j][t] = 0\n",
        "      net.layers[i].rho_weights[j][t] = -15\n",
        "  pred_class = net.predict_by_sampling(test_X, 100).data.cpu().numpy().argmax(axis=1)\n",
        "  true_class = test_Y.data.cpu().numpy().ravel()\n",
        "  test_accu = (pred_class == true_class).sum()\n",
        "  return round((1-test_accu/len(test_X))*100,2)\n",
        "print(\"0% of weights removed:\", get_error(net, 0, arr))\n",
        "print(\"50% of weights removed:\", get_error(net, 0.5, arr))\n",
        "print(\"75% of weights removed:\", get_error(net, 0.75, arr))\n",
        "print(\"95% of weights removed:\", get_error(net, 0.95, arr))\n",
        "print(\"98% of weights removed:\", get_error(net, 0.98, arr))"
      ],
      "execution_count": 0,
      "outputs": [
        {
          "output_type": "stream",
          "text": [
            "0% of weights removed: 1.32\n",
            "50% of weights removed: 2.19\n",
            "75% of weights removed: 5.45\n",
            "95% of weights removed: 13.03\n",
            "98% of weights removed: 18.93\n"
          ],
          "name": "stdout"
        }
      ]
    },
    {
      "metadata": {
        "id": "K7Vy8vIVhDrq",
        "colab_type": "code",
        "colab": {}
      },
      "cell_type": "code",
      "source": [
        ""
      ],
      "execution_count": 0,
      "outputs": []
    },
    {
      "metadata": {
        "id": "2gHiEbnhhv8f",
        "colab_type": "code",
        "outputId": "008986f3-1f58-4d0d-bb4d-195f42340208",
        "colab": {
          "base_uri": "https://localhost:8080/",
          "height": 283
        }
      },
      "cell_type": "code",
      "source": [
        "import core\n",
        "sgd_net = torch.load(\"SGD_weights.pt\")\n",
        "dropout_net = torch.load(\"dropout_weights.pt\")\n",
        "dropout_net.train()\n",
        "bayesian_net = torch.load(\"bayes_weights.pt\")\n",
        "\n",
        "def expected_entropy(net, input_data, num_samples=100):\n",
        "    with torch.no_grad():\n",
        "        outputs = torch.empty(num_samples, input_data.size()[0], 10)\n",
        "        for i in range(num_samples):\n",
        "            outputs[i] = net.forward(input_data)\n",
        "            outputs[i] = torch.exp(outputs[i])+1e-45\n",
        "        outputs = outputs.mean(0)\n",
        "        MC = torch.sum(outputs*torch.log(outputs), dim = 1)\n",
        "    #MC = MC.mean(0)\n",
        "    return MC\n",
        "\n",
        "def test(net, label, bayesian=False, dropout=False):\n",
        "    if dropout is True:\n",
        "        net.eval()\n",
        "    test_accu_lst = []\n",
        "    if bayesian is True:\n",
        "       pred_class = net.predict_by_sampling(test_X, 100).data.cpu().numpy().argmax(axis=1)\n",
        "    else:\n",
        "        pred_class = net(test_X).data.cpu().numpy().argmax(axis=1)\n",
        "    true_class = test_Y.data.cpu().numpy().ravel()\n",
        "    test_accu = (pred_class == true_class).sum()\n",
        "    if dropout is True:\n",
        "        net.train()\n",
        "    entropy = expected_entropy(net, test_X, 100)\n",
        "    entropy = entropy.data.cpu().numpy().ravel()\n",
        "    equ = pred_class == true_class\n",
        "    entropy_pair = sorted(list(zip(entropy, equ)), key=lambda tup: tup[0])\n",
        "    cur_test_size = test_size\n",
        "    for i in range(500):\n",
        "      cur_test_size-=1\n",
        "      if(entropy_pair[i][1]):\n",
        "        test_accu -= 1\n",
        "      test_accu_lst.append(test_accu/cur_test_size)\n",
        "    plt.plot(test_accu_lst, label=label)\n",
        "    plt.ylabel('Accuracy (%)')\n",
        "    plt.xlabel('Data Points Removed')\n",
        "    # plt.show()\n",
        "\n",
        "test(sgd_net, \"Vanilla SGD\")\n",
        "dropout_net.train()\n",
        "test(dropout_net, \"Dropout Sampling\", dropout=True)\n",
        "dropout_net.eval()\n",
        "test(dropout_net, \"Dropout Not Sampling\")\n",
        "test(bayesian_net, \"Bayes by Backprop Sampling\", bayesian=True)\n",
        "plt.legend()\n",
        "plt.show()\n"
      ],
      "execution_count": 0,
      "outputs": [
        {
          "output_type": "display_data",
          "data": {
            "image/png": "[encoded data removed]",
            "text/plain": [
              "<Figure size 432x288 with 1 Axes>"
            ]
          },
          "metadata": {
            "tags": []
          }
        }
      ]
    },
    {
      "metadata": {
        "id": "y-BS7wdXhhrG",
        "colab_type": "code",
        "outputId": "0bfc35ef-684f-4c9f-f3f0-2619836902cb",
        "colab": {
          "base_uri": "https://localhost:8080/",
          "height": 364
        }
      },
      "cell_type": "code",
      "source": [
        "import matplotlib.pyplot as plt\n",
        "import numpy as np\n",
        "import seaborn as sns\n",
        "import core\n",
        "\n",
        "sgd_net = torch.load(\"SGD_weights.pt\")\n",
        "dropout_net = torch.load(\"dropout_weights.pt\")\n",
        "dropout_net.eval()\n",
        "bayesian_net = torch.load(\"bayes3_weights.pt\")\n",
        "\n",
        "\n",
        "bayesian_parameters = list(bayesian_net.parameters())\n",
        "bayesian_parameters = np.concatenate([bayesian_parameters[i].data.cpu().numpy().reshape(-1,) for i in range(len(bayesian_parameters)) if i % 2 == 0])\n",
        "\n",
        "dropout_parameters = list(dropout_net.parameters())\n",
        "dropout_parameters = np.concatenate([dropout_parameters[i].data.cpu().numpy().reshape(-1,) for i in range(len(dropout_parameters))])\n",
        "\n",
        "sgd_parameters = list(sgd_net.parameters())\n",
        "sgd_parameters = np.concatenate([sgd_parameters[i].data.cpu().numpy().reshape(-1, ) for i in range(len(sgd_parameters))])\n",
        "\n",
        "sns.kdeplot(bayesian_parameters, shade=True, label=\"bayesian\")\n",
        "sns.kdeplot(sgd_parameters, shade=True, label=\"sgd\")\n",
        "sns.kdeplot(dropout_parameters, shade=True, label=\"dropout\")\n",
        "\n",
        "plt.legend()"
      ],
      "execution_count": 0,
      "outputs": [
        {
          "output_type": "execute_result",
          "data": {
            "text/plain": [
              "<matplotlib.legend.Legend at 0x7fa3c3572978>"
            ]
          },
          "metadata": {
            "tags": []
          },
          "execution_count": 17
        },
        {
          "output_type": "display_data",
          "data": {
            "image/png": "[encoded data removed]",
            "text/plain": [
              "<Figure size 576x396 with 1 Axes>"
            ]
          },
          "metadata": {
            "tags": []
          }
        }
      ]
    },
    {
      "metadata": {
        "id": "m_YWx4iHe146",
        "colab_type": "code",
        "colab": {}
      },
      "cell_type": "code",
      "source": [
        ""
      ],
      "execution_count": 0,
      "outputs": []
    }
  ]
}